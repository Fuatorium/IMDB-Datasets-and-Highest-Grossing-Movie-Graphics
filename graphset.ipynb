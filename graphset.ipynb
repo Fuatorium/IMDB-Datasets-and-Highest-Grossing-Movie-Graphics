{
 "cells": [
  {
   "cell_type": "code",
   "execution_count": 33,
   "id": "4e08d76c",
   "metadata": {},
   "outputs": [],
   "source": [
    "import pandas as pd\n",
    "\n"
   ]
  },
  {
   "cell_type": "code",
   "execution_count": 34,
   "id": "776d0878",
   "metadata": {},
   "outputs": [
    {
     "data": {
      "text/plain": [
       "(918, 9)"
      ]
     },
     "execution_count": 34,
     "metadata": {},
     "output_type": "execute_result"
    }
   ],
   "source": [
    "movies_df = pd.read_csv(\"Highest Holywood Grossing Movies.csv\", index_col=0)\n",
    "df.head()\n",
    "movies_df = movies_df.dropna()\n",
    "df.dropna(axis=\"columns\",how=\"any\").shape"
   ]
  },
  {
   "cell_type": "code",
   "execution_count": 59,
   "id": "082abe21",
   "metadata": {},
   "outputs": [
    {
     "data": {
      "text/html": [
       "<div>\n",
       "<style scoped>\n",
       "    .dataframe tbody tr th:only-of-type {\n",
       "        vertical-align: middle;\n",
       "    }\n",
       "\n",
       "    .dataframe tbody tr th {\n",
       "        vertical-align: top;\n",
       "    }\n",
       "\n",
       "    .dataframe thead th {\n",
       "        text-align: right;\n",
       "    }\n",
       "</style>\n",
       "<table border=\"1\" class=\"dataframe\">\n",
       "  <thead>\n",
       "    <tr style=\"text-align: right;\">\n",
       "      <th></th>\n",
       "      <th>Unnamed: 0</th>\n",
       "      <th>Domestic Sales (in $)</th>\n",
       "      <th>International Sales (in $)</th>\n",
       "      <th>World Sales (in $)</th>\n",
       "    </tr>\n",
       "  </thead>\n",
       "  <tbody>\n",
       "    <tr>\n",
       "      <th>count</th>\n",
       "      <td>918.000000</td>\n",
       "      <td>9.180000e+02</td>\n",
       "      <td>9.180000e+02</td>\n",
       "      <td>9.180000e+02</td>\n",
       "    </tr>\n",
       "    <tr>\n",
       "      <th>mean</th>\n",
       "      <td>458.500000</td>\n",
       "      <td>1.677469e+08</td>\n",
       "      <td>2.301434e+08</td>\n",
       "      <td>3.968668e+08</td>\n",
       "    </tr>\n",
       "    <tr>\n",
       "      <th>std</th>\n",
       "      <td>265.148072</td>\n",
       "      <td>1.040360e+08</td>\n",
       "      <td>2.176011e+08</td>\n",
       "      <td>3.082629e+08</td>\n",
       "    </tr>\n",
       "    <tr>\n",
       "      <th>min</th>\n",
       "      <td>0.000000</td>\n",
       "      <td>8.036084e+07</td>\n",
       "      <td>2.600000e+02</td>\n",
       "      <td>8.160000e+07</td>\n",
       "    </tr>\n",
       "    <tr>\n",
       "      <th>25%</th>\n",
       "      <td>229.250000</td>\n",
       "      <td>1.016071e+08</td>\n",
       "      <td>8.845620e+07</td>\n",
       "      <td>2.005564e+08</td>\n",
       "    </tr>\n",
       "    <tr>\n",
       "      <th>50%</th>\n",
       "      <td>458.500000</td>\n",
       "      <td>1.321351e+08</td>\n",
       "      <td>1.638819e+08</td>\n",
       "      <td>3.019416e+08</td>\n",
       "    </tr>\n",
       "    <tr>\n",
       "      <th>75%</th>\n",
       "      <td>687.750000</td>\n",
       "      <td>1.913905e+08</td>\n",
       "      <td>2.885577e+08</td>\n",
       "      <td>4.750718e+08</td>\n",
       "    </tr>\n",
       "    <tr>\n",
       "      <th>max</th>\n",
       "      <td>917.000000</td>\n",
       "      <td>9.366622e+08</td>\n",
       "      <td>2.086739e+09</td>\n",
       "      <td>2.847246e+09</td>\n",
       "    </tr>\n",
       "  </tbody>\n",
       "</table>\n",
       "</div>"
      ],
      "text/plain": [
       "       Unnamed: 0  Domestic Sales (in $)  International Sales (in $)  \\\n",
       "count  918.000000           9.180000e+02                9.180000e+02   \n",
       "mean   458.500000           1.677469e+08                2.301434e+08   \n",
       "std    265.148072           1.040360e+08                2.176011e+08   \n",
       "min      0.000000           8.036084e+07                2.600000e+02   \n",
       "25%    229.250000           1.016071e+08                8.845620e+07   \n",
       "50%    458.500000           1.321351e+08                1.638819e+08   \n",
       "75%    687.750000           1.913905e+08                2.885577e+08   \n",
       "max    917.000000           9.366622e+08                2.086739e+09   \n",
       "\n",
       "       World Sales (in $)  \n",
       "count        9.180000e+02  \n",
       "mean         3.968668e+08  \n",
       "std          3.082629e+08  \n",
       "min          8.160000e+07  \n",
       "25%          2.005564e+08  \n",
       "50%          3.019416e+08  \n",
       "75%          4.750718e+08  \n",
       "max          2.847246e+09  "
      ]
     },
     "execution_count": 59,
     "metadata": {},
     "output_type": "execute_result"
    }
   ],
   "source": [
    "movies.describe()"
   ]
  },
  {
   "cell_type": "code",
   "execution_count": 37,
   "id": "0fc71bd5",
   "metadata": {},
   "outputs": [],
   "source": [
    "import seaborn as sns\n",
    "import matplotlib\n",
    "import matplotlib.pyplot as plt\n",
    "%matplotlib inline"
   ]
  },
  {
   "cell_type": "code",
   "execution_count": 61,
   "id": "f939e239",
   "metadata": {},
   "outputs": [],
   "source": [
    "project_name = \"analysis of highest grossing movies\"\n"
   ]
  },
  {
   "cell_type": "code",
   "execution_count": 68,
   "id": "9e10b01f",
   "metadata": {},
   "outputs": [
    {
     "name": "stdout",
     "output_type": "stream",
     "text": [
      "<class 'pandas.core.frame.DataFrame'>\n",
      "RangeIndex: 918 entries, 0 to 917\n",
      "Data columns (total 11 columns):\n",
      " #   Column                      Non-Null Count  Dtype \n",
      "---  ------                      --------------  ----- \n",
      " 0   Unnamed: 0                  918 non-null    int64 \n",
      " 1   Title                       918 non-null    object\n",
      " 2   Movie Info                  918 non-null    object\n",
      " 3   Distributor                 918 non-null    object\n",
      " 4   Release Date                800 non-null    object\n",
      " 5   Domestic Sales (in $)       918 non-null    int64 \n",
      " 6   International Sales (in $)  918 non-null    int64 \n",
      " 7   World Sales (in $)          918 non-null    int64 \n",
      " 8   Genre                       918 non-null    object\n",
      " 9   Movie Runtime               918 non-null    object\n",
      " 10  License                     744 non-null    object\n",
      "dtypes: int64(4), object(7)\n",
      "memory usage: 79.0+ KB\n"
     ]
    }
   ],
   "source": [
    "movies.info()"
   ]
  },
  {
   "cell_type": "code",
   "execution_count": 102,
   "id": "ed70d140",
   "metadata": {},
   "outputs": [
    {
     "data": {
      "application/javascript": [
       "window.require && require([\"base/js/namespace\"],function(Jupyter){Jupyter.notebook.save_checkpoint()})"
      ],
      "text/plain": [
       "<IPython.core.display.Javascript object>"
      ]
     },
     "metadata": {},
     "output_type": "display_data"
    },
    {
     "name": "stdout",
     "output_type": "stream",
     "text": [
      "[jovian] Updating notebook \"fuadeedu/analysis-of-highest-grossing-movies\" on https://jovian.ai/\n",
      "[jovian] Committed successfully! https://jovian.ai/fuadeedu/analysis-of-highest-grossing-movies\n"
     ]
    },
    {
     "data": {
      "text/plain": [
       "'https://jovian.ai/fuadeedu/analysis-of-highest-grossing-movies'"
      ]
     },
     "execution_count": 102,
     "metadata": {},
     "output_type": "execute_result"
    }
   ],
   "source": [
    "import jovian\n",
    "jovian.commit(project=project_name)"
   ]
  },
  {
   "cell_type": "code",
   "execution_count": 101,
   "id": "381033e3",
   "metadata": {},
   "outputs": [
    {
     "data": {
      "text/plain": [
       "<AxesSubplot:xlabel='Distributor'>"
      ]
     },
     "execution_count": 101,
     "metadata": {},
     "output_type": "execute_result"
    },
    {
     "data": {
      "image/png": "[encoded data removed]",
      "text/plain": [
       "<Figure size 432x288 with 1 Axes>"
      ]
     },
     "metadata": {
      "needs_background": "light"
     },
     "output_type": "display_data"
    }
   ],
   "source": [
    "\n",
    "\n",
    "top_5 = df.sort_values(by=\"Distributor\", ascending=False).head()\n",
    "top_5.plot(x=\"Distributor\", y=\"International Sales (in $)\", kind=\"bar\", rot=5, fontsize=4)\n",
    "\n",
    "#yukarıdaki hatayı düzeltmek için obje dönüştürülmeli.\n",
    "\n",
    "\n"
   ]
  },
  {
   "cell_type": "code",
   "execution_count": 85,
   "id": "da477efd",
   "metadata": {},
   "outputs": [
    {
     "data": {
      "text/plain": [
       "<AxesSubplot:xlabel='Domestic Sales (in $)'>"
      ]
     },
     "execution_count": 85,
     "metadata": {},
     "output_type": "execute_result"
    },
    {
     "data": {
      "image/png": "[encoded data removed]",
      "text/plain": [
       "<Figure size 432x288 with 1 Axes>"
      ]
     },
     "metadata": {
      "needs_background": "light"
     },
     "output_type": "display_data"
    }
   ],
   "source": [
    "top_movies = df[df[\"Domestic Sales (in $)\"] > 590000000].sort_values(\"World Sales (in $)\")\n",
    "\n",
    "top_movies.plot(x=\"Domestic Sales (in $)\", y=[\"International Sales (in $)\", \"World Sales (in $)\"], kind=\"bar\")"
   ]
  },
  {
   "cell_type": "code",
   "execution_count": 86,
   "id": "c5f5658a",
   "metadata": {},
   "outputs": [
    {
     "data": {
      "text/html": [
       "<div>\n",
       "<style scoped>\n",
       "    .dataframe tbody tr th:only-of-type {\n",
       "        vertical-align: middle;\n",
       "    }\n",
       "\n",
       "    .dataframe tbody tr th {\n",
       "        vertical-align: top;\n",
       "    }\n",
       "\n",
       "    .dataframe thead th {\n",
       "        text-align: right;\n",
       "    }\n",
       "</style>\n",
       "<table border=\"1\" class=\"dataframe\">\n",
       "  <thead>\n",
       "    <tr style=\"text-align: right;\">\n",
       "      <th></th>\n",
       "      <th>Unnamed: 0</th>\n",
       "      <th>Title</th>\n",
       "      <th>Movie Info</th>\n",
       "      <th>Distributor</th>\n",
       "      <th>Release Date</th>\n",
       "      <th>Domestic Sales (in $)</th>\n",
       "      <th>International Sales (in $)</th>\n",
       "      <th>World Sales (in $)</th>\n",
       "      <th>Genre</th>\n",
       "      <th>Movie Runtime</th>\n",
       "      <th>License</th>\n",
       "    </tr>\n",
       "  </thead>\n",
       "  <tbody>\n",
       "    <tr>\n",
       "      <th>0</th>\n",
       "      <td>0</td>\n",
       "      <td>Star Wars: Episode VII - The Force Awakens (2015)</td>\n",
       "      <td>As a new threat to the galaxy rises, Rey, a de...</td>\n",
       "      <td>Walt Disney Studios Motion Pictures</td>\n",
       "      <td>December 16, 2015</td>\n",
       "      <td>936662225</td>\n",
       "      <td>1132859475</td>\n",
       "      <td>2069521700</td>\n",
       "      <td>['Action', 'Adventure', 'Sci-Fi']</td>\n",
       "      <td>2 hr 18 min</td>\n",
       "      <td>PG-13</td>\n",
       "    </tr>\n",
       "    <tr>\n",
       "      <th>1</th>\n",
       "      <td>1</td>\n",
       "      <td>Avengers: Endgame (2019)</td>\n",
       "      <td>After the devastating events of Avengers: Infi...</td>\n",
       "      <td>Walt Disney Studios Motion Pictures</td>\n",
       "      <td>April 24, 2019</td>\n",
       "      <td>858373000</td>\n",
       "      <td>1939128328</td>\n",
       "      <td>2797501328</td>\n",
       "      <td>['Action', 'Adventure', 'Drama', 'Sci-Fi']</td>\n",
       "      <td>3 hr 1 min</td>\n",
       "      <td>PG-13</td>\n",
       "    </tr>\n",
       "    <tr>\n",
       "      <th>2</th>\n",
       "      <td>2</td>\n",
       "      <td>Avatar (2009)</td>\n",
       "      <td>A paraplegic Marine dispatched to the moon Pan...</td>\n",
       "      <td>Twentieth Century Fox</td>\n",
       "      <td>December 16, 2009</td>\n",
       "      <td>760507625</td>\n",
       "      <td>2086738578</td>\n",
       "      <td>2847246203</td>\n",
       "      <td>['Action', 'Adventure', 'Fantasy', 'Sci-Fi']</td>\n",
       "      <td>2 hr 42 min</td>\n",
       "      <td>PG-13</td>\n",
       "    </tr>\n",
       "    <tr>\n",
       "      <th>3</th>\n",
       "      <td>3</td>\n",
       "      <td>Black Panther (2018)</td>\n",
       "      <td>T'Challa, heir to the hidden but advanced king...</td>\n",
       "      <td>Walt Disney Studios Motion Pictures</td>\n",
       "      <td>NaN</td>\n",
       "      <td>700426566</td>\n",
       "      <td>647171407</td>\n",
       "      <td>1347597973</td>\n",
       "      <td>['Action', 'Adventure', 'Sci-Fi']</td>\n",
       "      <td>2 hr 14 min</td>\n",
       "      <td>NaN</td>\n",
       "    </tr>\n",
       "    <tr>\n",
       "      <th>4</th>\n",
       "      <td>4</td>\n",
       "      <td>Avengers: Infinity War (2018)</td>\n",
       "      <td>The Avengers and their allies must be willing ...</td>\n",
       "      <td>Walt Disney Studios Motion Pictures</td>\n",
       "      <td>NaN</td>\n",
       "      <td>678815482</td>\n",
       "      <td>1369544272</td>\n",
       "      <td>2048359754</td>\n",
       "      <td>['Action', 'Adventure', 'Sci-Fi']</td>\n",
       "      <td>2 hr 29 min</td>\n",
       "      <td>NaN</td>\n",
       "    </tr>\n",
       "    <tr>\n",
       "      <th>5</th>\n",
       "      <td>5</td>\n",
       "      <td>Spider-Man: No Way Home (2021)</td>\n",
       "      <td>With Spider-Man's identity now revealed, Peter...</td>\n",
       "      <td>Sony Pictures Entertainment (SPE)</td>\n",
       "      <td>NaN</td>\n",
       "      <td>675813257</td>\n",
       "      <td>868642706</td>\n",
       "      <td>1544455963</td>\n",
       "      <td>['Action', 'Adventure', 'Fantasy', 'Sci-Fi']</td>\n",
       "      <td>2 hr 28 min</td>\n",
       "      <td>NaN</td>\n",
       "    </tr>\n",
       "    <tr>\n",
       "      <th>6</th>\n",
       "      <td>6</td>\n",
       "      <td>Titanic (1997)</td>\n",
       "      <td>A seventeen-year-old aristocrat falls in love ...</td>\n",
       "      <td>Paramount Pictures</td>\n",
       "      <td>December 19, 1997</td>\n",
       "      <td>659363944</td>\n",
       "      <td>1542283320</td>\n",
       "      <td>2201647264</td>\n",
       "      <td>['Drama', 'Romance']</td>\n",
       "      <td>3 hr 14 min</td>\n",
       "      <td>PG-13</td>\n",
       "    </tr>\n",
       "    <tr>\n",
       "      <th>7</th>\n",
       "      <td>7</td>\n",
       "      <td>Jurassic World (2015)</td>\n",
       "      <td>A new theme park, built on the original site o...</td>\n",
       "      <td>Universal Pictures</td>\n",
       "      <td>June 10, 2015</td>\n",
       "      <td>652385625</td>\n",
       "      <td>1018130819</td>\n",
       "      <td>1670516444</td>\n",
       "      <td>['Action', 'Adventure', 'Sci-Fi']</td>\n",
       "      <td>2 hr 4 min</td>\n",
       "      <td>PG-13</td>\n",
       "    </tr>\n",
       "    <tr>\n",
       "      <th>8</th>\n",
       "      <td>8</td>\n",
       "      <td>The Avengers (2012)</td>\n",
       "      <td>Earth's mightiest heroes must come together an...</td>\n",
       "      <td>Walt Disney Studios Motion Pictures</td>\n",
       "      <td>April 25, 2012</td>\n",
       "      <td>623357910</td>\n",
       "      <td>895457605</td>\n",
       "      <td>1518815515</td>\n",
       "      <td>['Action', 'Adventure', 'Sci-Fi']</td>\n",
       "      <td>2 hr 23 min</td>\n",
       "      <td>PG-13</td>\n",
       "    </tr>\n",
       "    <tr>\n",
       "      <th>9</th>\n",
       "      <td>9</td>\n",
       "      <td>Star Wars: Episode VIII - The Last Jedi (2017)</td>\n",
       "      <td>The Star Wars saga continues as new heroes and...</td>\n",
       "      <td>Walt Disney Studios Motion Pictures</td>\n",
       "      <td>December 13, 2017</td>\n",
       "      <td>620181382</td>\n",
       "      <td>712517448</td>\n",
       "      <td>1332698830</td>\n",
       "      <td>['Action', 'Adventure', 'Fantasy', 'Sci-Fi']</td>\n",
       "      <td>2 hr 32 min</td>\n",
       "      <td>PG-13</td>\n",
       "    </tr>\n",
       "    <tr>\n",
       "      <th>10</th>\n",
       "      <td>10</td>\n",
       "      <td>Incredibles 2 (2018)</td>\n",
       "      <td>The Incredibles family takes on a new mission ...</td>\n",
       "      <td>Walt Disney Studios Motion Pictures</td>\n",
       "      <td>NaN</td>\n",
       "      <td>608581744</td>\n",
       "      <td>634507500</td>\n",
       "      <td>1243089244</td>\n",
       "      <td>['Action', 'Adventure', 'Animation', 'Comedy',...</td>\n",
       "      <td>1 hr 58 min</td>\n",
       "      <td>NaN</td>\n",
       "    </tr>\n",
       "  </tbody>\n",
       "</table>\n",
       "</div>"
      ],
      "text/plain": [
       "    Unnamed: 0                                              Title  \\\n",
       "0            0  Star Wars: Episode VII - The Force Awakens (2015)   \n",
       "1            1                           Avengers: Endgame (2019)   \n",
       "2            2                                      Avatar (2009)   \n",
       "3            3                               Black Panther (2018)   \n",
       "4            4                      Avengers: Infinity War (2018)   \n",
       "5            5                     Spider-Man: No Way Home (2021)   \n",
       "6            6                                     Titanic (1997)   \n",
       "7            7                              Jurassic World (2015)   \n",
       "8            8                                The Avengers (2012)   \n",
       "9            9     Star Wars: Episode VIII - The Last Jedi (2017)   \n",
       "10          10                               Incredibles 2 (2018)   \n",
       "\n",
       "                                           Movie Info  \\\n",
       "0   As a new threat to the galaxy rises, Rey, a de...   \n",
       "1   After the devastating events of Avengers: Infi...   \n",
       "2   A paraplegic Marine dispatched to the moon Pan...   \n",
       "3   T'Challa, heir to the hidden but advanced king...   \n",
       "4   The Avengers and their allies must be willing ...   \n",
       "5   With Spider-Man's identity now revealed, Peter...   \n",
       "6   A seventeen-year-old aristocrat falls in love ...   \n",
       "7   A new theme park, built on the original site o...   \n",
       "8   Earth's mightiest heroes must come together an...   \n",
       "9   The Star Wars saga continues as new heroes and...   \n",
       "10  The Incredibles family takes on a new mission ...   \n",
       "\n",
       "                            Distributor       Release Date  \\\n",
       "0   Walt Disney Studios Motion Pictures  December 16, 2015   \n",
       "1   Walt Disney Studios Motion Pictures     April 24, 2019   \n",
       "2                 Twentieth Century Fox  December 16, 2009   \n",
       "3   Walt Disney Studios Motion Pictures                NaN   \n",
       "4   Walt Disney Studios Motion Pictures                NaN   \n",
       "5     Sony Pictures Entertainment (SPE)                NaN   \n",
       "6                    Paramount Pictures  December 19, 1997   \n",
       "7                    Universal Pictures      June 10, 2015   \n",
       "8   Walt Disney Studios Motion Pictures     April 25, 2012   \n",
       "9   Walt Disney Studios Motion Pictures  December 13, 2017   \n",
       "10  Walt Disney Studios Motion Pictures                NaN   \n",
       "\n",
       "    Domestic Sales (in $)  International Sales (in $)  World Sales (in $)  \\\n",
       "0               936662225                  1132859475          2069521700   \n",
       "1               858373000                  1939128328          2797501328   \n",
       "2               760507625                  2086738578          2847246203   \n",
       "3               700426566                   647171407          1347597973   \n",
       "4               678815482                  1369544272          2048359754   \n",
       "5               675813257                   868642706          1544455963   \n",
       "6               659363944                  1542283320          2201647264   \n",
       "7               652385625                  1018130819          1670516444   \n",
       "8               623357910                   895457605          1518815515   \n",
       "9               620181382                   712517448          1332698830   \n",
       "10              608581744                   634507500          1243089244   \n",
       "\n",
       "                                                Genre Movie Runtime License  \n",
       "0                   ['Action', 'Adventure', 'Sci-Fi']   2 hr 18 min   PG-13  \n",
       "1          ['Action', 'Adventure', 'Drama', 'Sci-Fi']    3 hr 1 min   PG-13  \n",
       "2        ['Action', 'Adventure', 'Fantasy', 'Sci-Fi']   2 hr 42 min   PG-13  \n",
       "3                   ['Action', 'Adventure', 'Sci-Fi']   2 hr 14 min     NaN  \n",
       "4                   ['Action', 'Adventure', 'Sci-Fi']   2 hr 29 min     NaN  \n",
       "5        ['Action', 'Adventure', 'Fantasy', 'Sci-Fi']   2 hr 28 min     NaN  \n",
       "6                                ['Drama', 'Romance']   3 hr 14 min   PG-13  \n",
       "7                   ['Action', 'Adventure', 'Sci-Fi']    2 hr 4 min   PG-13  \n",
       "8                   ['Action', 'Adventure', 'Sci-Fi']   2 hr 23 min   PG-13  \n",
       "9        ['Action', 'Adventure', 'Fantasy', 'Sci-Fi']   2 hr 32 min   PG-13  \n",
       "10  ['Action', 'Adventure', 'Animation', 'Comedy',...   1 hr 58 min     NaN  "
      ]
     },
     "execution_count": 86,
     "metadata": {},
     "output_type": "execute_result"
    }
   ],
   "source": [
    "df.head(11)"
   ]
  },
  {
   "cell_type": "code",
   "execution_count": null,
   "id": "ffeb17f7",
   "metadata": {},
   "outputs": [],
   "source": []
  }
 ],
 "metadata": {
  "kernelspec": {
   "display_name": "Python 3",
   "language": "python",
   "name": "python3"
  },
  "language_info": {
   "codemirror_mode": {
    "name": "ipython",
    "version": 3
   },
   "file_extension": ".py",
   "mimetype": "text/x-python",
   "name": "python",
   "nbconvert_exporter": "python",
   "pygments_lexer": "ipython3",
   "version": "3.8.8"
  }
 },
 "nbformat": 4,
 "nbformat_minor": 5
}
